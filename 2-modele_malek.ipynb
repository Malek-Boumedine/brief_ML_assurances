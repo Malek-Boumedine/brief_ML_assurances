{
 "cells": [
  {
   "cell_type": "code",
   "execution_count": 1,
   "metadata": {},
   "outputs": [],
   "source": [
    "import pandas as pd\n",
    "import numpy as np\n",
    "import matplotlib.pyplot as plt"
   ]
  },
  {
   "cell_type": "code",
   "execution_count": null,
   "metadata": {},
   "outputs": [],
   "source": [
    "donnees = pd.read_csv(\"dataset_assurance_cleaned.csv\")\n",
    "donnees_originales = donnees.copy()\n",
    "donnees.head()"
   ]
  },
  {
   "cell_type": "code",
   "execution_count": null,
   "metadata": {},
   "outputs": [],
   "source": [
    "donnees.info()"
   ]
  },
  {
   "cell_type": "markdown",
   "metadata": {},
   "source": [
    "#### trainset et testset"
   ]
  },
  {
   "cell_type": "code",
   "execution_count": 4,
   "metadata": {},
   "outputs": [],
   "source": [
    "X = donnees.drop(\"charges\", axis=1)     # features\n",
    "y = donnees[\"charges\"]                  # target\n"
   ]
  },
  {
   "cell_type": "markdown",
   "metadata": {},
   "source": [
    "# 1. dummy Model : LinearRegression"
   ]
  },
  {
   "cell_type": "code",
   "execution_count": 5,
   "metadata": {},
   "outputs": [],
   "source": [
    "from sklearn.preprocessing import LabelBinarizer, OneHotEncoder\n",
    "\n",
    "encodeur_smoker = LabelBinarizer(pos_label=1, neg_label=0)\n",
    "encodeur_smoker.classes_ = [\"yes\", \"non\"]\n",
    "\n",
    "encodeur_sex = LabelBinarizer(pos_label=1, neg_label=0)\n",
    "encodeur_sex.classes_ = np.array(['male', 'female'])  # on définit l'ordre\n",
    "\n",
    "X[\"smoker\"] = encodeur_smoker.fit_transform(X[\"smoker\"])\n",
    "X[\"sex\"] = encodeur_sex.fit_transform(X[\"sex\"])\n",
    "X.rename(columns={\"sex\" : \"sex_male\"}, inplace=True)\n",
    "X\n",
    "\n",
    "encodeur_region = OneHotEncoder(sparse_output=False)\n",
    "region_encodee = encodeur_region.fit_transform(X[[\"region\"]])\n",
    "region_encodee\n",
    "\n",
    "df_region_encodee = pd.DataFrame(region_encodee, columns=encodeur_region.get_feature_names_out([\"region\"]), index = X.index)\n",
    "df_region_encodee\n",
    "\n",
    "X = pd.concat([X, df_region_encodee], axis = 1)\n",
    "\n",
    "# suppression de la colonne region\n",
    "X.drop(\"region\", axis = 1, inplace=True)\n"
   ]
  },
  {
   "cell_type": "code",
   "execution_count": 6,
   "metadata": {},
   "outputs": [],
   "source": [
    "from sklearn.model_selection import train_test_split\n",
    "\n",
    "X_train, X_test, y_train, y_test = train_test_split(X, y, shuffle=True, train_size=0.85, random_state=42, stratify=X[\"smoker\"])"
   ]
  },
  {
   "cell_type": "code",
   "execution_count": null,
   "metadata": {},
   "outputs": [],
   "source": [
    "from sklearn.linear_model import LinearRegression\n",
    "\n",
    "dummy_model = LinearRegression()\n",
    "dummy_model.fit(X_train, y_train)"
   ]
  },
  {
   "cell_type": "code",
   "execution_count": null,
   "metadata": {},
   "outputs": [],
   "source": [
    "dummy_model.score(X_test, y_test)"
   ]
  },
  {
   "cell_type": "markdown",
   "metadata": {},
   "source": [
    "#### test "
   ]
  },
  {
   "cell_type": "code",
   "execution_count": 9,
   "metadata": {},
   "outputs": [],
   "source": [
    "# data = pd.read_csv(\"dataset_assurance.csv\")\n",
    "# data.drop_duplicates(inplace=True)\n",
    "\n",
    "# X = data.drop(\"charges\", axis = 1)\n",
    "# y = data[\"charges\"]\n",
    "# print(data.shape)\n",
    "# data.head()\n"
   ]
  },
  {
   "cell_type": "markdown",
   "metadata": {},
   "source": [
    "# pre-processing"
   ]
  },
  {
   "cell_type": "markdown",
   "metadata": {},
   "source": [
    "## encodage \n"
   ]
  },
  {
   "cell_type": "code",
   "execution_count": 10,
   "metadata": {},
   "outputs": [],
   "source": [
    "# from sklearn.preprocessing import LabelBinarizer, OneHotEncoder\n",
    "\n",
    "# encodeur_smoker = LabelBinarizer(pos_label=1, neg_label=0)\n",
    "# encodeur_smoker.classes_ = [\"yes\", \"non\"]\n",
    "\n",
    "# encodeur_sex = LabelBinarizer(pos_label=1, neg_label=0)\n",
    "# encodeur_sex.classes_ = np.array(['male', 'female'])  # on définit l'ordre\n",
    "\n",
    "# X[\"smoker\"] = encodeur_smoker.fit_transform(X[\"smoker\"])\n",
    "# X[\"sex\"] = encodeur_sex.fit_transform(X[\"sex\"])\n",
    "# X.rename(columns={\"sex\" : \"sex_male\"}, inplace=True)\n",
    "# X\n",
    "\n",
    "# encodeur_region = OneHotEncoder(sparse_output=False)\n",
    "# region_encodee = encodeur_region.fit_transform(X[[\"region\"]])\n",
    "# region_encodee\n",
    "\n",
    "# df_region_encodee = pd.DataFrame(region_encodee, columns=encodeur_region.get_feature_names_out([\"region\"]), index = X.index)\n",
    "# df_region_encodee\n",
    "\n",
    "# X = pd.concat([X, df_region_encodee], axis = 1)\n",
    "\n",
    "# # suppression de la colonne region\n",
    "# X.drop(\"region\", axis = 1, inplace=True)\n"
   ]
  },
  {
   "cell_type": "markdown",
   "metadata": {},
   "source": [
    "# 2. model Lasso"
   ]
  },
  {
   "cell_type": "markdown",
   "metadata": {},
   "source": [
    "split testset et dataset"
   ]
  },
  {
   "cell_type": "code",
   "execution_count": 11,
   "metadata": {},
   "outputs": [],
   "source": [
    "from sklearn.model_selection import train_test_split\n",
    "X_train, X_test, y_train, y_test = train_test_split(X, y, shuffle=True, train_size=0.85, random_state=42, stratify=X[\"smoker\"])\n",
    "\n",
    "# X_train"
   ]
  },
  {
   "cell_type": "markdown",
   "metadata": {},
   "source": [
    "## normalisation\n",
    "\n",
    "Robuste scaler qui est peu sensible aux valeurs aberrantes car il soustrait les données à la médiane qu'il divise par le IQR"
   ]
  },
  {
   "cell_type": "code",
   "execution_count": 12,
   "metadata": {},
   "outputs": [],
   "source": [
    "from sklearn.preprocessing import RobustScaler, StandardScaler\n",
    "\n",
    "scaler = RobustScaler()\n",
    "X_train = scaler.fit_transform(X_train)\n",
    "X_test = scaler.transform(X_test)\n"
   ]
  },
  {
   "cell_type": "markdown",
   "metadata": {},
   "source": [
    "### premier model lasso"
   ]
  },
  {
   "cell_type": "code",
   "execution_count": null,
   "metadata": {},
   "outputs": [],
   "source": [
    "from sklearn.linear_model import Lasso\n",
    "\n",
    "lasso1 = Lasso()\n",
    "lasso1.fit(X_train, y_train)"
   ]
  },
  {
   "cell_type": "code",
   "execution_count": 14,
   "metadata": {},
   "outputs": [],
   "source": [
    "from sklearn.metrics import mean_absolute_error, mean_squared_error, r2_score, median_absolute_error\n",
    "\n",
    "def metriques(model, X_test, y_test) : \n",
    "    pred_y = model.predict(X_test)\n",
    "    mse = mean_squared_error(y_test, pred_y)\n",
    "    mae = mean_absolute_error(y_test, pred_y)\n",
    "    r2 = r2_score(y_test, pred_y)\n",
    "    med_ae = median_absolute_error(y_test, pred_y)\n",
    "    \n",
    "    \n",
    "    print(f\"MSE : {mse}\")\n",
    "    print(f\"RMSE : {np.sqrt(mse)}\")\n",
    "    print(f\"MAE : {mae}\")\n",
    "    print(f\"R2 : {r2}\")\n",
    "    print(f\"MedAE : {med_ae}\")\n",
    "    \n",
    "    return mse, mae, r2, med_ae\n"
   ]
  },
  {
   "cell_type": "code",
   "execution_count": 15,
   "metadata": {},
   "outputs": [],
   "source": [
    "def coefficients(model, X) : \n",
    "    coefs = model.coef_\n",
    "    noms_cols = X.columns\n",
    "    coefs_df = pd.DataFrame({\"variables\" : noms_cols, \"coef\" : coefs})\n",
    "    print(\"coefficients des variables\")\n",
    "    print(coefs_df)\n"
   ]
  },
  {
   "cell_type": "code",
   "execution_count": null,
   "metadata": {},
   "outputs": [],
   "source": [
    "metriques(model=lasso1, X_test=X_test, y_test=y_test)"
   ]
  },
  {
   "cell_type": "code",
   "execution_count": null,
   "metadata": {},
   "outputs": [],
   "source": [
    "coefficients(model=lasso1, X=X)"
   ]
  },
  {
   "cell_type": "markdown",
   "metadata": {},
   "source": [
    "## Sélection du meilleur alpha\n",
    "\n",
    "avec grid search cv, model lassoCV\n"
   ]
  },
  {
   "cell_type": "code",
   "execution_count": 18,
   "metadata": {},
   "outputs": [],
   "source": [
    "from sklearn.model_selection import GridSearchCV, RandomizedSearchCV\n",
    "\n",
    "params = {\n",
    "    \"alpha\" : [0.00001, 0.0001, 0.001, 0.01, 0.1, 1, 10, 100]\n",
    "}\n",
    "\n",
    "lasso_cv = GridSearchCV(lasso1, param_grid=params, cv=5, n_jobs=-1)     "
   ]
  },
  {
   "cell_type": "code",
   "execution_count": null,
   "metadata": {},
   "outputs": [],
   "source": [
    "lasso_cv.fit(X_train, y_train)"
   ]
  },
  {
   "cell_type": "code",
   "execution_count": null,
   "metadata": {},
   "outputs": [],
   "source": [
    "print(\"meilleurs parametres : \", lasso_cv.best_params_)\n",
    "lasso_cv.best_estimator_"
   ]
  },
  {
   "cell_type": "markdown",
   "metadata": {},
   "source": [
    "### nouveau model avec le meilleur alpha\n",
    "il sera le même que le premier, car alpha par défaut=1"
   ]
  },
  {
   "cell_type": "code",
   "execution_count": null,
   "metadata": {},
   "outputs": [],
   "source": [
    "lasso2 = Lasso(alpha=1)\n",
    "lasso2.fit(X_train, y_train)"
   ]
  },
  {
   "cell_type": "code",
   "execution_count": null,
   "metadata": {},
   "outputs": [],
   "source": [
    "metriques(model=lasso2, X_test=X_test, y_test=y_test)\n"
   ]
  },
  {
   "cell_type": "code",
   "execution_count": null,
   "metadata": {},
   "outputs": [],
   "source": [
    "coefficients(model=lasso2, X=X)"
   ]
  },
  {
   "cell_type": "markdown",
   "metadata": {},
   "source": [
    "## feature engineering"
   ]
  },
  {
   "cell_type": "markdown",
   "metadata": {},
   "source": [
    "#### création de polynomes \n",
    "PolynomialFeatures\n",
    "\n",
    "utiliser un modele qui fixe les coefficients à zero lorsque les poids ne sont pas utiles (il fait du feature selection)\n"
   ]
  },
  {
   "cell_type": "code",
   "execution_count": null,
   "metadata": {},
   "outputs": [],
   "source": [
    "from sklearn.preprocessing import PolynomialFeatures\n",
    "\n",
    "\n",
    "# poly = PolynomialFeatures(degree=2, include_bias=False)\n",
    "poly = PolynomialFeatures(degree=2)\n",
    "\n",
    "X_fe = poly.fit_transform(X)\n",
    "X_train, X_test, y_train, y_test = train_test_split(X, y, shuffle=True, train_size=0.85, random_state=42, stratify=X[\"smoker\"])\n",
    "type(X_fe)\n"
   ]
  },
  {
   "cell_type": "code",
   "execution_count": 25,
   "metadata": {},
   "outputs": [],
   "source": [
    "X_train, X_test, y_train, y_test = train_test_split(X_fe, y, shuffle=True, train_size=0.85, random_state=42, stratify=X[\"smoker\"])"
   ]
  },
  {
   "cell_type": "markdown",
   "metadata": {},
   "source": [
    "### normalisation du nouveau X_fe "
   ]
  },
  {
   "cell_type": "code",
   "execution_count": 26,
   "metadata": {},
   "outputs": [],
   "source": [
    "scaler = RobustScaler()\n",
    "X_train_stand = scaler.fit_transform(X_train)\n",
    "X_test_stand = scaler.transform(X_test)"
   ]
  },
  {
   "cell_type": "code",
   "execution_count": null,
   "metadata": {},
   "outputs": [],
   "source": [
    "lasso3 = Lasso()\n",
    "lasso3.fit(X_train, y_train)"
   ]
  },
  {
   "cell_type": "code",
   "execution_count": null,
   "metadata": {},
   "outputs": [],
   "source": [
    "metriques(model=lasso3, X_test=X_test, y_test=y_test)\n"
   ]
  },
  {
   "cell_type": "markdown",
   "metadata": {},
   "source": [
    "### recherche du meilleur alpha"
   ]
  },
  {
   "cell_type": "code",
   "execution_count": 29,
   "metadata": {},
   "outputs": [],
   "source": [
    "params2 = {\n",
    "    \"alpha\" : [i for i in range(10,100)]\n",
    "}\n",
    "\n",
    "lasso_cv2 = GridSearchCV(lasso3, param_grid=params2, cv=5, n_jobs=-1)"
   ]
  },
  {
   "cell_type": "code",
   "execution_count": null,
   "metadata": {},
   "outputs": [],
   "source": [
    "lasso_cv2.fit(X_train, y_train)"
   ]
  },
  {
   "cell_type": "code",
   "execution_count": null,
   "metadata": {},
   "outputs": [],
   "source": [
    "print(\"meilleur score : \", lasso_cv2.best_score_)\n",
    "best_aplha = lasso_cv2.best_params_[\"alpha\"]\n",
    "print(\"meilleur alpha : \", best_aplha)\n",
    "lasso_cv2.best_estimator_"
   ]
  },
  {
   "cell_type": "code",
   "execution_count": null,
   "metadata": {},
   "outputs": [],
   "source": [
    "lasso4 = Lasso(alpha=best_aplha)\n",
    "lasso4.fit(X_train, y_train)\n",
    "\n",
    "metriques(model=lasso4, X_test=X_test, y_test=y_test)"
   ]
  },
  {
   "cell_type": "markdown",
   "metadata": {},
   "source": [
    "    R² est passé de 0.83 à 0.90 \n",
    "    RMSE a baissé de 5013 à 3798 \n",
    "    MAE a baissé de 3496 à 2476 \n",
    "\n",
    "    points intéressants :\n",
    "\n",
    "    smoker_bmi a un fort impact positif (+1438), confirmant que l'effet du tabagisme augmente avec le BMI\n",
    "    age_squared est positif (+4.16), montrant un effet accéléré avec l'âge\n",
    "    bmi_squared est négatif (-9.19), suggérant un effet qui ralentit pour les BMI très élevés\n",
    "    Les interactions créées ont permis de capturer des relations plus complexes\n",
    "\n",
    "    Changements notables :\n",
    "\n",
    "    Le coefficient de smoker est devenu négatif car son effet est maintenant capturé via les interactions\n",
    "    L'effet direct de l'âge est devenu négatif mais est compensé par age_squared\n",
    "\n",
    "    Ces résultats montrent que l'ajout des interactions était pertinent et a significativement amélioré le modèle tout en gardant son interprétabilité."
   ]
  },
  {
   "cell_type": "markdown",
   "metadata": {},
   "source": [
    "# 3. model Ridge"
   ]
  },
  {
   "cell_type": "code",
   "execution_count": 33,
   "metadata": {},
   "outputs": [],
   "source": [
    "X_train, X_test, y_train, y_test = X_train, X_test, y_train, y_test = train_test_split(X, y, shuffle=True, train_size=0.85, random_state=42, stratify=X[\"smoker\"])\n"
   ]
  },
  {
   "cell_type": "code",
   "execution_count": null,
   "metadata": {},
   "outputs": [],
   "source": [
    "scaler = RobustScaler()\n",
    "X_train = scaler.fit_transform(X_train)\n",
    "X_test = scaler.transform(X_test)\n",
    "X_train\n"
   ]
  },
  {
   "cell_type": "code",
   "execution_count": null,
   "metadata": {},
   "outputs": [],
   "source": [
    "from sklearn.linear_model import Ridge\n",
    "\n",
    "ridge1 = Ridge()\n",
    "ridge1.fit(X_train, y_train)\n"
   ]
  },
  {
   "cell_type": "code",
   "execution_count": null,
   "metadata": {},
   "outputs": [],
   "source": [
    "metriques(model=ridge1, X_test=X_test, y_test=y_test)\n"
   ]
  },
  {
   "cell_type": "code",
   "execution_count": null,
   "metadata": {},
   "outputs": [],
   "source": [
    "X.columns"
   ]
  },
  {
   "cell_type": "code",
   "execution_count": null,
   "metadata": {},
   "outputs": [],
   "source": [
    "ridge1.coef_\n",
    "coefficients(model=ridge1, X=X)"
   ]
  },
  {
   "cell_type": "markdown",
   "metadata": {},
   "source": [
    "## amélioration"
   ]
  },
  {
   "cell_type": "markdown",
   "metadata": {},
   "source": [
    "recherche du meilleur nombre de cv"
   ]
  },
  {
   "cell_type": "code",
   "execution_count": null,
   "metadata": {},
   "outputs": [],
   "source": [
    "params = {\n",
    "    \"alpha\" : np.arange(1, 20)\n",
    "}\n",
    "\n",
    "ridge_cv = GridSearchCV(estimator=ridge1, param_grid=params, cv=5, n_jobs=-1)\n",
    "ridge_cv.fit(X_train, y_train)\n"
   ]
  },
  {
   "cell_type": "code",
   "execution_count": null,
   "metadata": {},
   "outputs": [],
   "source": [
    "metriques(model=ridge_cv, X_test=X_test, y_test=y_test)"
   ]
  },
  {
   "cell_type": "markdown",
   "metadata": {},
   "source": [
    "#### création de nouvelles variables "
   ]
  },
  {
   "cell_type": "code",
   "execution_count": 41,
   "metadata": {},
   "outputs": [],
   "source": [
    "X_fe = X.copy()\n",
    "y_fe = y.copy()\n",
    "\n",
    "X_fe[\"age_carre\"] = X_fe[\"age\"]**2  \n",
    "X_fe[\"bmi_carre\"] = X_fe[\"bmi\"]**2  \n",
    "X_fe[\"age_bmi\"] = X_fe[\"age\"] * X_fe[\"bmi\"]\n",
    "X_fe[\"smoker_bmi\"] = X_fe[\"smoker\"] * X_fe[\"bmi\"]\n",
    "X_fe[\"smoker_age\"] = X_fe[\"smoker\"] * X_fe[\"age\"]\n",
    "X_fe[\"children_bmi\"] = X_fe[\"children\"] * X_fe[\"bmi\"]"
   ]
  },
  {
   "cell_type": "code",
   "execution_count": 42,
   "metadata": {},
   "outputs": [],
   "source": [
    "X_train, X_test, y_train, y_test = train_test_split(X_fe, y_fe, shuffle=True, train_size=0.85, random_state=42, stratify=X[\"smoker\"])\n"
   ]
  },
  {
   "cell_type": "code",
   "execution_count": 43,
   "metadata": {},
   "outputs": [],
   "source": [
    "scaler = RobustScaler()\n",
    "X_train_stand = scaler.fit_transform(X_train)\n",
    "X_test_stand = scaler.transform(X_test)"
   ]
  },
  {
   "cell_type": "code",
   "execution_count": null,
   "metadata": {},
   "outputs": [],
   "source": [
    "ridge3 = Ridge(alpha=1)\n",
    "ridge3.fit(X_train, y_train)\n",
    "metriques(model=ridge3, X_test=X_test, y_test=y_test)\n",
    "ridge3.score(X_test, y_test)"
   ]
  },
  {
   "cell_type": "markdown",
   "metadata": {},
   "source": [
    "# 4. model ElasticNet"
   ]
  },
  {
   "cell_type": "code",
   "execution_count": null,
   "metadata": {},
   "outputs": [],
   "source": [
    "from sklearn.linear_model import ElasticNet\n",
    "\n",
    "elastic1 = ElasticNet(random_state=42)\n",
    "\n",
    "elastic1.fit(X_train, y_train)\n",
    "\n",
    "metriques(model=elastic1, X_test=X_test, y_test=y_test)\n"
   ]
  },
  {
   "cell_type": "code",
   "execution_count": null,
   "metadata": {},
   "outputs": [],
   "source": [
    "params = {\n",
    "    'alpha': [0.0001, 0.0005, 0.001, 0.005, 0.01],\n",
    "    'l1_ratio': [0.1, 0.3, 0.5, 0.7, 0.8, 0.9, 0.95]\n",
    "}\n",
    "elastic_cv = GridSearchCV(elastic1, param_grid=params, cv=5, n_jobs=-1, scoring='r2')\n",
    "elastic_cv.fit(X_train, y_train)\n",
    "\n",
    "best_alpha = elastic_cv.best_params_['alpha']\n",
    "best_l1_ratio = elastic_cv.best_params_['l1_ratio']\n",
    "final_elastic = ElasticNet(alpha=best_alpha, l1_ratio=best_l1_ratio)\n",
    "final_elastic.fit(X_train, y_train)"
   ]
  },
  {
   "cell_type": "code",
   "execution_count": null,
   "metadata": {},
   "outputs": [],
   "source": [
    "metriques(model=final_elastic, X_test=X_test, y_test=y_test)"
   ]
  },
  {
   "cell_type": "code",
   "execution_count": null,
   "metadata": {},
   "outputs": [],
   "source": [
    "X = X.copy()\n",
    "y = y.copy()\n",
    "y_fe = np.log(y)\n",
    "\n",
    "\n",
    "poly = PolynomialFeatures(degree=2, include_bias=False)\n",
    "\n",
    "X_fe = poly.fit_transform(X)\n",
    "\n",
    "X_train, X_test, y_train, y_test = train_test_split(X_fe, y_fe, shuffle=True, train_size=0.85, random_state=42, stratify=X[\"smoker\"])\n",
    "\n",
    "X_fe"
   ]
  },
  {
   "cell_type": "code",
   "execution_count": null,
   "metadata": {},
   "outputs": [],
   "source": [
    "# elastic_cv2 = ElasticNet(alpha=best_alpha, l1_ratio=best_l1_ratio, random_state=42)\n",
    "elastic_cv2 = ElasticNet(alpha=0.001, l1_ratio=0.9, random_state=42)\n",
    "\n",
    "elastic_cv2.fit(X_train, y_train)\n"
   ]
  },
  {
   "cell_type": "code",
   "execution_count": null,
   "metadata": {},
   "outputs": [],
   "source": [
    "metriques(model=elastic_cv2, X_test=X_test, y_test=y_test)"
   ]
  },
  {
   "cell_type": "markdown",
   "metadata": {},
   "source": [
    "# groupement des ages, children et bmi en catégories"
   ]
  },
  {
   "cell_type": "code",
   "execution_count": 52,
   "metadata": {},
   "outputs": [],
   "source": [
    "def categorie_age(age) :\n",
    "    if age < 25:\n",
    "        return \"24 et moins\"\n",
    "    elif age < 35:\n",
    "        return \"25-34\"\n",
    "    elif age < 45:\n",
    "        return \"35-44\"\n",
    "    elif age < 55:\n",
    "        return \"45-54\"\n",
    "    else:\n",
    "        return \"55 et plus\"\n",
    "\n",
    "def categorie_bmi(bmi):\n",
    "    if bmi < 18.5 :\n",
    "        return \"insuffisance pondérale\"\n",
    "    elif bmi < 24.5:\n",
    "        return \"normal\"\n",
    "    elif bmi < 30:\n",
    "        return \"surpoids\"\n",
    "    elif bmi < 35:\n",
    "        return \"obésité I\"\n",
    "    elif bmi < 40:\n",
    "        return \"obésité II\"\n",
    "    else:\n",
    "        return \"obésité III\"\n",
    "    \n",
    "def est_obese(bmi): \n",
    "    return bmi >= 30\n",
    "\n",
    "def a_des_enfants(enfant): \n",
    "    return enfant > 0\n",
    "\n",
    "def region_west(region): \n",
    "    return region in [\"northwest\", \"southwest\"]\n",
    "\n"
   ]
  },
  {
   "cell_type": "code",
   "execution_count": null,
   "metadata": {},
   "outputs": [],
   "source": [
    "X3 = X.copy()\n",
    "y3 = np.log(y.copy())\n",
    "X3['bmi_cat'] = X3['bmi'].apply(categorie_bmi)\n",
    "\n",
    "X3 = pd.get_dummies(X3, columns=['bmi_cat'], drop_first=True)\n",
    "X3[\"bmi\"] = np.log(X3[\"bmi\"])\n",
    "\n",
    "X3"
   ]
  },
  {
   "cell_type": "code",
   "execution_count": 54,
   "metadata": {},
   "outputs": [],
   "source": [
    "poly = PolynomialFeatures(degree=2, include_bias=False)\n",
    "\n",
    "X3 = poly.fit_transform(X3)\n",
    "X_train, X_test, y_train, y_test = train_test_split(X3, y3, shuffle=True, train_size=0.85, random_state=42, stratify=X[\"smoker\"])\n",
    "\n",
    "scaler = RobustScaler()\n",
    "X_train = scaler.fit_transform(X_train)\n",
    "X_test = scaler.transform(X_test)"
   ]
  },
  {
   "cell_type": "code",
   "execution_count": null,
   "metadata": {},
   "outputs": [],
   "source": [
    "lasso5 = Lasso(alpha=0.001, random_state=42)\n",
    "lasso5.fit(X_train, y_train)\n",
    "\n",
    "metriques(model=lasso5, X_test=X_test, y_test=y_test)"
   ]
  },
  {
   "cell_type": "code",
   "execution_count": null,
   "metadata": {},
   "outputs": [],
   "source": [
    "elasticnet5 = ElasticNet(random_state=42, alpha=0.001, l1_ratio=0.9)\n",
    "elasticnet5.fit(X_train, y_train)\n",
    "\n",
    "metriques(model=elasticnet5, X_test=X_test, y_test=y_test)\n"
   ]
  },
  {
   "cell_type": "markdown",
   "metadata": {},
   "source": [
    "# meilleur résultat obtenu"
   ]
  },
  {
   "cell_type": "code",
   "execution_count": 57,
   "metadata": {},
   "outputs": [],
   "source": [
    "from sklearn.preprocessing import LabelBinarizer, OneHotEncoder\n",
    "\n",
    "X = donnees.drop(\"charges\", axis=1)     # features\n",
    "y = donnees[\"charges\"]                  # target\n",
    "\n",
    "encodeur_smoker = LabelBinarizer(pos_label=1, neg_label=0)\n",
    "encodeur_smoker.classes_ = [\"yes\", \"non\"]\n",
    "\n",
    "encodeur_sex = LabelBinarizer(pos_label=1, neg_label=0)\n",
    "encodeur_sex.classes_ = np.array(['male', 'female'])  # on définit l'ordre\n",
    "\n",
    "X[\"smoker\"] = encodeur_smoker.fit_transform(X[\"smoker\"])\n",
    "X[\"sex\"] = encodeur_sex.fit_transform(X[\"sex\"])\n",
    "X.rename(columns={\"sex\" : \"sex_male\"}, inplace=True)\n",
    "\n",
    "encodeur_region = OneHotEncoder(sparse_output=False)\n",
    "region_encodee = encodeur_region.fit_transform(X[[\"region\"]])\n",
    "region_encodee\n",
    "\n",
    "df_region_encodee = pd.DataFrame(region_encodee, columns=encodeur_region.get_feature_names_out([\"region\"]), index = X.index)\n",
    "df_region_encodee\n",
    "\n",
    "X = pd.concat([X, df_region_encodee], axis = 1)\n",
    "\n",
    "# suppression de la colonne region\n",
    "X.drop(\"region\", axis = 1, inplace=True)\n"
   ]
  },
  {
   "cell_type": "code",
   "execution_count": 58,
   "metadata": {},
   "outputs": [],
   "source": [
    "X_fe = X.copy()\n",
    "y_fe = y.copy()\n",
    "\n",
    "X_fe[\"bmi_cat\"] = X_fe[\"bmi\"].apply(categorie_bmi)\n",
    "X_fe[\"age_cat\"] = X_fe[\"age\"].apply(categorie_bmi)\n",
    "# X_fe.drop(\"bmi\", inplace=True, axis = 1)\n",
    "# X_fe.drop(\"age\", inplace=True, axis = 1)\n",
    "\n",
    "# encodage\n",
    "X_fe = pd.get_dummies(X_fe, columns=[\"bmi_cat\"], drop_first=True)\n",
    "X_fe = pd.get_dummies(X_fe, columns=[\"age_cat\"], drop_first=True)\n",
    "# print(X_fe.head())\n",
    "\n",
    "# polynomes\n",
    "poly = PolynomialFeatures(degree=2, include_bias=False)\n",
    "X_fe = poly.fit_transform(X_fe)\n",
    "\n",
    "# testset - dataset\n",
    "X_train, X_test, y_train, y_test = train_test_split(X_fe, y_fe, shuffle=True, train_size=0.85, random_state=42, stratify=X[\"smoker\"])\n",
    "\n",
    "# mise à l'echelle\n",
    "scaler = StandardScaler()\n",
    "X_train = scaler.fit_transform(X_train)\n",
    "X_test = scaler.transform(X_test)\n"
   ]
  },
  {
   "cell_type": "code",
   "execution_count": null,
   "metadata": {},
   "outputs": [],
   "source": [
    "lasso_model_final = Lasso(alpha=238, random_state=42)\n",
    "lasso_model_final.fit(X_train, y_train)\n",
    "metriques(model=lasso_model_final, X_test=X_test, y_test=y_test)\n"
   ]
  },
  {
   "cell_type": "markdown",
   "metadata": {},
   "source": [
    "# pipeline"
   ]
  },
  {
   "cell_type": "code",
   "execution_count": 60,
   "metadata": {},
   "outputs": [],
   "source": [
    "# residus distribution des residus, QQ plot +++"
   ]
  },
  {
   "cell_type": "code",
   "execution_count": null,
   "metadata": {},
   "outputs": [],
   "source": [
    "from sklearn.pipeline import Pipeline\n",
    "from sklearn.feature_selection import SelectKBest, f_regression\n",
    "\n",
    "\n",
    "X = donnees.drop(\"charges\", axis=1)\n",
    "y = donnees[\"charges\"]\n",
    "\n",
    "def preprocessing_0(X, y) :\n",
    "    \n",
    "    encodeur_smoker = LabelBinarizer(pos_label=1, neg_label=0)\n",
    "    encodeur_smoker.classes_ = [\"yes\", \"non\"]\n",
    "\n",
    "    encodeur_sex = LabelBinarizer(pos_label=1, neg_label=0)\n",
    "    encodeur_sex.classes_ = np.array(['male', 'female'])\n",
    "\n",
    "    X[\"smoker\"] = encodeur_smoker.fit_transform(X[\"smoker\"])\n",
    "    X[\"sex\"] = encodeur_sex.fit_transform(X[\"sex\"])\n",
    "    X.rename(columns={\"sex\": \"sex_male\"}, inplace=True)\n",
    "\n",
    "    # encodage de region\n",
    "    encodeur_region = OneHotEncoder(sparse_output=False)\n",
    "    region_encodee = encodeur_region.fit_transform(X[[\"region\"]])\n",
    "    df_region_encodee = pd.DataFrame(region_encodee, columns=encodeur_region.get_feature_names_out([\"region\"]), index=X.index)\n",
    "    \n",
    "    X = pd.concat([X, df_region_encodee], axis=1)\n",
    "    X.drop(\"region\", axis=1, inplace=True)\n",
    "\n",
    "    X[\"bmi_cat\"] = X[\"bmi\"].apply(categorie_bmi)\n",
    "    X[\"age_cat\"] = X[\"age\"].apply(categorie_bmi)\n",
    "    X = pd.get_dummies(X, columns=[\"bmi_cat\"], drop_first=True)\n",
    "    X = pd.get_dummies(X, columns=[\"age_cat\"], drop_first=True)\n",
    "\n",
    "    return X, y\n",
    "\n",
    "X, y = preprocessing_0(X, y)\n",
    "\n",
    "X_train, X_test, y_train, y_test = train_test_split( X, y, shuffle=True, train_size=0.85, random_state=42, stratify=X[\"smoker\"])\n",
    "\n",
    "final_pipeline = Pipeline([\n",
    "    ('poly', PolynomialFeatures(degree=2, include_bias=False)),\n",
    "    ('scaler', StandardScaler()),\n",
    "    (\"feature_selection\", SelectKBest(score_func=f_regression, k=55)),\n",
    "    ('regressor', Lasso(alpha=238, random_state=42))\n",
    "])\n",
    "\n",
    "final_pipeline.fit(X_train, y_train)\n",
    "\n",
    "metriques(model=final_pipeline, X_test=X_test, y_test=y_test)\n"
   ]
  }
 ],
 "metadata": {
  "kernelspec": {
   "display_name": ".venv",
   "language": "python",
   "name": "python3"
  },
  "language_info": {
   "codemirror_mode": {
    "name": "ipython",
    "version": 3
   },
   "file_extension": ".py",
   "mimetype": "text/x-python",
   "name": "python",
   "nbconvert_exporter": "python",
   "pygments_lexer": "ipython3",
   "version": "3.13.0"
  }
 },
 "nbformat": 4,
 "nbformat_minor": 2
}
