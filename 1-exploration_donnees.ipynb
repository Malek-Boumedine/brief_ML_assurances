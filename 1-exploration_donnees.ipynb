{
 "cells": [
  {
   "cell_type": "markdown",
   "metadata": {},
   "source": [
    "# Importation des librairies"
   ]
  },
  {
   "cell_type": "code",
   "execution_count": 1,
   "metadata": {},
   "outputs": [],
   "source": [
    "import pandas as pd\n",
    "import numpy as np\n",
    "\n",
    "import missingno as msno\n",
    "\n",
    "import matplotlib.pyplot as plt\n",
    "import seaborn as sns\n",
    "\n",
    "import scipy.stats as stats\n",
    "from scipy.stats import zscore\n",
    "import statsmodels.api as sm\n",
    "import statsmodels.formula.api as smf\n",
    "from sklearn.preprocessing import LabelEncoder, OneHotEncoder\n",
    "from sklearn.compose import ColumnTransformer\n",
    "from sklearn.linear_model import LinearRegression\n",
    "from sklearn.model_selection import train_test_split\n"
   ]
  },
  {
   "cell_type": "markdown",
   "metadata": {},
   "source": [
    "# Importation des données"
   ]
  },
  {
   "cell_type": "code",
   "execution_count": 2,
   "metadata": {},
   "outputs": [],
   "source": [
    "df = pd.read_csv(\"dataset_assurance.csv\")\n"
   ]
  },
  {
   "cell_type": "code",
   "execution_count": null,
   "metadata": {},
   "outputs": [],
   "source": [
    "df"
   ]
  },
  {
   "cell_type": "markdown",
   "metadata": {},
   "source": [
    "### Descriptif des variables\n",
    "\n",
    "- **Indice de masse corporel (BMI)** : Permet de donner un rapport entre la taille et le poids. Idéalement, il faut être entre 18.5 et 24.9.\n",
    "- **Sexe (Sex)** : Genre de la personne qui contracte l’assurance (homme ou femme).\n",
    "- **Âge (Age)** : Âge du principal bénéficiaire.\n",
    "- **Nombre d’enfants à charge (Children)** : Nombre d’enfants couverts par l’assurance.\n",
    "- **Fumeur (Smoker)** : Fumeur ou non-fumeur.\n",
    "- **Région (Region)** : Zone résidentielle dans les États-Unis (Nord-Est, Sud-Est, Sud-Ouest, Nord-Ouest).\n",
    "- **Charges (Charges)** : La prime d’assurance facturée (cible)."
   ]
  },
  {
   "cell_type": "markdown",
   "metadata": {},
   "source": [
    "# I | Exploration et Analyse"
   ]
  },
  {
   "cell_type": "code",
   "execution_count": null,
   "metadata": {},
   "outputs": [],
   "source": [
    "df.shape"
   ]
  },
  {
   "cell_type": "code",
   "execution_count": null,
   "metadata": {},
   "outputs": [],
   "source": [
    "df.info()"
   ]
  },
  {
   "cell_type": "code",
   "execution_count": null,
   "metadata": {},
   "outputs": [],
   "source": [
    "df.describe()"
   ]
  },
  {
   "cell_type": "markdown",
   "metadata": {},
   "source": [
    "## 1. Valeurs dupliquées & manquantes"
   ]
  },
  {
   "cell_type": "code",
   "execution_count": null,
   "metadata": {},
   "outputs": [],
   "source": [
    "### Valeurs dupliquées / doublons\n",
    "\n",
    "# Identification des doublons\n",
    "doublons = df[df.duplicated(keep=False)]\n",
    "print(doublons)\n",
    "\n",
    "\"\"\" Il y a en effet une ligne en doublon, nous allons dans ce cas la supprimer (peu importe 1ère(first) ou 2nd itération(last))\"\"\""
   ]
  },
  {
   "cell_type": "code",
   "execution_count": 8,
   "metadata": {},
   "outputs": [],
   "source": [
    "# Suppression des doublons\n",
    "df.drop_duplicates(inplace=True)"
   ]
  },
  {
   "cell_type": "code",
   "execution_count": null,
   "metadata": {},
   "outputs": [],
   "source": [
    "### Valeurs manquantes\n",
    "\n",
    "df.isna().sum()"
   ]
  },
  {
   "cell_type": "code",
   "execution_count": null,
   "metadata": {},
   "outputs": [],
   "source": [
    "msno.matrix(df)"
   ]
  },
  {
   "cell_type": "markdown",
   "metadata": {},
   "source": [
    "## 2. Détection des valeurs aberrantes"
   ]
  },
  {
   "cell_type": "code",
   "execution_count": null,
   "metadata": {},
   "outputs": [],
   "source": [
    "### Boîtes à moustache de nos variables quantitatives pour déterminer les valeurs aberrantes\n",
    "\n",
    "fig, axes = plt.subplots(1, 3, figsize=(20, 5))\n",
    "\n",
    "# Graphique 1 : Distribution des charges\n",
    "sns.boxplot(x=df['charges'], ax=axes[0])\n",
    "axes[0].set_title(\"Distribution des Charges\")\n",
    "axes[0].set_xlabel(\"Charges\")\n",
    "axes[0].set_ylabel(\"Nombre d'assurés\")\n",
    "\n",
    "# Graphique 2 : Distribution des âges\n",
    "sns.boxplot(x=df['age'], ax=axes[1])\n",
    "axes[1].set_title(\"Distribution des Âges\")\n",
    "axes[1].set_xlabel(\"Âge\")\n",
    "axes[1].set_ylabel(\"\")\n",
    "\n",
    "\n",
    "# Graphique 3 : Distribution du BMI\n",
    "sns.boxplot(x=df['bmi'], ax=axes[2])\n",
    "axes[2].set_title(\"Distribution du BMI\")\n",
    "axes[2].set_xlabel(\"BMI\")\n",
    "axes[2].set_ylabel(\"\")\n",
    "\n",
    "for i in range(3):\n",
    "    axes[i].grid()\n",
    "    \n",
    "plt.show()"
   ]
  },
  {
   "cell_type": "code",
   "execution_count": 12,
   "metadata": {},
   "outputs": [],
   "source": [
    "### Recherches des valeurs aberrantes\n",
    "\n",
    "def valeurs_aberrantes_IQR(df, colonne) : \n",
    "    Q1 = df[colonne].quantile(0.25)\n",
    "    Q3 = df[colonne].quantile(0.75)\n",
    "    IQR = Q3 - Q1\n",
    "\n",
    "    limite_inf = Q1 - (1.5 * IQR)\n",
    "    limite_sup = Q3 + (1.5 * IQR)\n",
    "\n",
    "    valeurs_aberrantes = df[(df[colonne] < limite_inf) | (df[colonne] > limite_sup)]\n",
    "    \n",
    "    return valeurs_aberrantes"
   ]
  },
  {
   "cell_type": "code",
   "execution_count": null,
   "metadata": {},
   "outputs": [],
   "source": [
    "# Valeurs aberrantes de la variable cible \"charges\"\n",
    "\n",
    "charges_outliers = valeurs_aberrantes_IQR(df, 'charges')\n",
    "charges_outliers.sort_values('charges', ascending=False)"
   ]
  },
  {
   "cell_type": "code",
   "execution_count": null,
   "metadata": {},
   "outputs": [],
   "source": [
    "print(f\"- Nombre de lignes contenant des valeurs abérantes : {charges_outliers.shape[0]}\")\n",
    "print(f\"- Pourgentage de lignes contenant des valeurs abérantes : {round((charges_outliers.shape[0] / df.shape[0]) * 100,2)} %\")"
   ]
  },
  {
   "cell_type": "code",
   "execution_count": null,
   "metadata": {},
   "outputs": [],
   "source": [
    "# Vérification des données : Age\n",
    "print(\"Vérification des données : Âge\")\n",
    "print(f\"Valeur minimale : {min(df['age'])}\")\n",
    "print(f\"Valeur maximale : {max(df['age'])}\")\n",
    "print(f\"Type de données : {df['age'].dtype}\\n\")\n",
    "\n",
    "print(\"Observation : Les données sur l'âge semblent correctes et ne contiennent pas de valeurs aberrantes.\\n\")\n",
    "\n",
    "# Vérification des données : BMI\n",
    "print(\"Vérification des données : BMI\")\n",
    "print(f\"Valeur minimale : {min(df['bmi']):.2f}\")\n",
    "print(f\"Valeur maximale : {max(df['bmi']):.2f}\\n\")\n",
    "\n",
    "print(\"Observation : Bien qu'il n'existe pas de limites strictes au BMI, une valeur inférieure à 16 indique une insuffisance pondérale sévère, et une valeur supérieure à 40 représente une obésité de classe 3 (sévère).\")\n",
    "print(\"Nous pourrions donc considérer que des valeurs en dehors de cet intervalle sont potentiellement aberrantes.\\n\")\n",
    "\n",
    "# Vérification des données : Nombre d'enfants\n",
    "print(\"Vérification des données : Nombre d'enfants\")\n",
    "print(f\"Valeur minimale : {min(df['children'])}\")\n",
    "print(f\"Valeur maximale : {max(df['children'])}\")\n",
    "print(f\"Type de données : {df['children'].dtype}\\n\")\n",
    "\n",
    "print(\"Observation : Les données sur le nombre d'enfants semblent correctes et ne contiennent pas de valeurs aberrantes.\\n\")\n",
    "\n",
    "# Conclusion\n",
    "print(\"Conclusion : Après ces observations, nous allons examiner plus en détail les valeurs de la colonne BMI.\")\n"
   ]
  },
  {
   "cell_type": "code",
   "execution_count": null,
   "metadata": {},
   "outputs": [],
   "source": [
    "bmi_outliers = valeurs_aberrantes_IQR(df, 'bmi')\n",
    "bmi_outliers.sort_values('bmi', ascending=False)"
   ]
  },
  {
   "cell_type": "code",
   "execution_count": null,
   "metadata": {},
   "outputs": [],
   "source": [
    "print(f\"- Nombre de lignes contenant des valeurs abérantes : {bmi_outliers.shape[0]}\")\n",
    "print(f\"- Pourgentage de lignes contenant des valeurs abérantes : {round((bmi_outliers.shape[0] / df.shape[0]) * 100,2)} %\")"
   ]
  },
  {
   "cell_type": "code",
   "execution_count": null,
   "metadata": {},
   "outputs": [],
   "source": [
    "df[df['bmi'] < 16]"
   ]
  },
  {
   "cell_type": "code",
   "execution_count": null,
   "metadata": {},
   "outputs": [],
   "source": [
    "df[df['bmi'] > 40]"
   ]
  },
  {
   "cell_type": "code",
   "execution_count": 20,
   "metadata": {},
   "outputs": [],
   "source": [
    "df.to_csv('dataset_assurance_cleaned.csv', index=False)"
   ]
  },
  {
   "cell_type": "markdown",
   "metadata": {},
   "source": [
    "# 3 | Analyse univariée"
   ]
  },
  {
   "cell_type": "code",
   "execution_count": null,
   "metadata": {},
   "outputs": [],
   "source": [
    "# Résumer statistiques de nos variables\n",
    "\n",
    "summary_stats = df.describe().transpose()\n",
    "summary_stats['median'] = df.select_dtypes('number').median()\n",
    "\n",
    "summary_stats"
   ]
  },
  {
   "cell_type": "markdown",
   "metadata": {},
   "source": [
    "### 1. Répartition des caractéristiques démographiques et sociales"
   ]
  },
  {
   "cell_type": "code",
   "execution_count": null,
   "metadata": {},
   "outputs": [],
   "source": [
    "### Répartition des variables\n",
    "\n",
    "fig, axes = plt.subplots(1, 4, figsize=(17, 4))\n",
    "\n",
    "## Proportion Homme-Femmme\n",
    "axes[0].pie(df[\"sex\"].value_counts(), labels=df[\"sex\"].value_counts().index, autopct='%1.1f%%')\n",
    "axes[0].set_title(\"Homme - Femme\")\n",
    "\n",
    "## Proportion des fumeurs\n",
    "axes[1].pie(df[\"smoker\"].value_counts(), labels=df[\"smoker\"].value_counts().index, autopct='%1.2f%%')\n",
    "axes[1].set_title(\"Fumeur - Non-fumeur\")\n",
    "\n",
    "## Proportions des assurés par régions\n",
    "axes[2].pie(df[\"region\"].value_counts(), labels=df[\"region\"].value_counts().index, autopct='%1.1f%%')\n",
    "axes[2].set_title(\"Proportion des assurés par régions\")\n",
    "\n",
    "## Proportions des enfants par assurés\n",
    "axes[3].pie(df[\"children\"].value_counts(), labels=df[\"children\"].value_counts().index, autopct='%1.1f%%')\n",
    "axes[3].set_title(\"Proportion des enfants par assurés\")\n"
   ]
  },
  {
   "cell_type": "markdown",
   "metadata": {},
   "source": [
    "### 2. Distributions de nos variables"
   ]
  },
  {
   "cell_type": "code",
   "execution_count": null,
   "metadata": {},
   "outputs": [],
   "source": [
    "### Distribution de notre variable cible 'charges'\n",
    "\n",
    "sns.histplot(df['charges'], kde=True)"
   ]
  },
  {
   "cell_type": "code",
   "execution_count": null,
   "metadata": {},
   "outputs": [],
   "source": [
    "### Distribution de nos variables\n",
    "\n",
    "\n",
    "fig, axes = plt.subplots(1, 5, figsize=(20, 5))\n",
    "\n",
    "# Graphique 1 : Distribution des âges\n",
    "sns.histplot(df['age'], kde=True, ax=axes[0])\n",
    "axes[0].set_title(\"Distribution des âges\")\n",
    "axes[0].set_xlabel(\"Age\")\n",
    "axes[0].set_ylabel(\"Nombre d'assurés\")\n",
    "for container in axes[0].containers:\n",
    "    axes[0].bar_label(container, fmt='%.0f')\n",
    "\n",
    "# Graphique 2 : Distribution du BMI\n",
    "sns.histplot(df['bmi'], kde=True, ax=axes[1])\n",
    "axes[1].set_title(\"Distribution des bmi\")\n",
    "axes[1].set_xlabel(\"BMI\")\n",
    "axes[1].set_ylabel(\"\")\n",
    "for container in axes[1].containers:\n",
    "    axes[1].bar_label(container, fmt='%.0f')\n",
    "\n",
    "# Graphique 3 : Distribution du nombre d'enfants\n",
    "sns.histplot(df['children'], ax=axes[2])\n",
    "axes[2].set_title(\"Distribution des enfants par assuré\")\n",
    "axes[2].set_xlabel(\"Children\")\n",
    "axes[2].set_ylabel(\"\")\n",
    "for container in axes[2].containers:\n",
    "    axes[2].bar_label(container, fmt='%.0f')\n",
    "\n",
    "# Graphique 4 : Distribution des assurés suivant s'ils sont fumeurs ou non-fumeurs\n",
    "sns.histplot(df['smoker'], ax=axes[3])\n",
    "axes[3].set_title(\"Distribution des assurés fumeurs ou non\")\n",
    "axes[3].set_xlabel(\"Smoker\")\n",
    "axes[3].set_ylabel(\"\")\n",
    "for container in  axes[3].containers:\n",
    "    axes[3].bar_label(container, fmt='%.0f')\n",
    "\n",
    "# Graphique 5 : Distribution des assurés par régions\n",
    "sns.histplot(df['region'], ax=axes[4])\n",
    "axes[4].set_title(\"Distriution des assurés par régions\")\n",
    "axes[4].set_xlabel(\"Region\")\n",
    "axes[4].set_ylabel(\"\")\n",
    "for container in axes[4].containers:\n",
    "    axes[4].bar_label(container, fmt='%.0f')\n",
    "\n",
    "plt.tight_layout()\n",
    "plt.show()"
   ]
  },
  {
   "cell_type": "markdown",
   "metadata": {},
   "source": [
    "# 4 | Corrélation des variables"
   ]
  },
  {
   "cell_type": "code",
   "execution_count": null,
   "metadata": {},
   "outputs": [],
   "source": [
    "### Encodage de nos variables qualitatives pour le schéma de corrélations\n",
    "\n",
    "encoder = LabelEncoder()\n",
    "\n",
    "df_encoded = df.copy()\n",
    "\n",
    "df_encoded['sex_encoded'] = encoder.fit_transform(df_encoded['sex'])\n",
    "df_encoded['region_encoded'] = encoder.fit_transform(df_encoded['region'])\n",
    "df_encoded['smoker_encoded'] =  encoder.fit_transform(df_encoded['smoker'])\n",
    "\n",
    "df_encoded = df_encoded[['age', 'sex_encoded', 'bmi', 'children', 'smoker_encoded', 'region_encoded', 'charges']]\n",
    "df_encoded"
   ]
  },
  {
   "cell_type": "code",
   "execution_count": null,
   "metadata": {},
   "outputs": [],
   "source": [
    "### Heatmap des corrélations\n",
    "\n",
    "\n",
    "# Corrélation\n",
    "df_corr = df_encoded.select_dtypes('number').corr()\n",
    "\n",
    "# HeatMap\n",
    "sns.heatmap(df_corr, annot = True, fmt='.2f', cmap='seismic', center=0)\n"
   ]
  },
  {
   "cell_type": "markdown",
   "metadata": {},
   "source": [
    "# 5 | Analyse Bivariés"
   ]
  },
  {
   "cell_type": "code",
   "execution_count": null,
   "metadata": {},
   "outputs": [],
   "source": [
    "sns.pairplot(df.select_dtypes('number'))"
   ]
  },
  {
   "cell_type": "code",
   "execution_count": null,
   "metadata": {},
   "outputs": [],
   "source": [
    "# Relation entre le sex et les charges\n",
    "\n",
    "sns.barplot(data=df, x='sex', y='charges', estimator='mean', hue='sex', palette=['lightcoral', 'skyblue'], errorbar=None)\n",
    "\n",
    "# Annotations\n",
    "for container in plt.gca().containers:\n",
    "    plt.gca().bar_label(container, fmt='%.0f$')\n",
    "\n",
    "# Personnalisation\n",
    "plt.xlabel(\"Sex\")\n",
    "plt.ylabel(\"Charges moyennes\")\n",
    "plt.title(\"Charges moyennes suivant le sex\")\n",
    "plt.show()\n"
   ]
  },
  {
   "cell_type": "code",
   "execution_count": null,
   "metadata": {},
   "outputs": [],
   "source": [
    "# Relation entre le fait de fumer et les charges\n",
    "\n",
    "## BarPlot\n",
    "sns.barplot(data=df, x='smoker', y='charges', estimator='mean', errorbar=None)\n",
    "\n",
    "## Annotations\n",
    "for container in plt.gca().containers:\n",
    "    plt.gca().bar_label(container, fmt='%.0f$')\n",
    "\n",
    "#\"\" Personnalisation\n",
    "plt.xlabel(\"Fumeurs\")\n",
    "plt.ylabel(\"Charges moyennes\")\n",
    "plt.title(\"Charges moyennes pour fumeurs et non-fumeurs\")\n",
    "plt.show()"
   ]
  },
  {
   "cell_type": "code",
   "execution_count": null,
   "metadata": {},
   "outputs": [],
   "source": [
    "# Relation entre l'âge et les charges\n",
    "\n",
    "df['age_group'] = pd.cut(\n",
    "    df['age'],\n",
    "    bins=[17, 24, 34, 44, 54, 64],                             \n",
    "    labels=['18-24', '25-34', '35-44', '45-54', '55-64']\n",
    ")\n",
    "\n",
    "age_group_mapping = {'18-24': 0, '25-34': 1, '35-44': 2, '45-54': 3, '55-64': 4}\n",
    "df['age_group_numeric'] = df['age_group'].map(age_group_mapping)\n",
    "\n",
    "# BarPlot\n",
    "sns.barplot(data=df, x='age_group', y='charges', estimator='mean', errorbar=None)\n",
    "\n",
    "# Courbe de tendance avec regplot (régression linéaire)\n",
    "sns.regplot(data=df, x='age_group_numeric', y='charges', scatter=False, color='red')\n",
    "\n",
    "# Annotations\n",
    "for container in plt.gca().containers:\n",
    "    plt.gca().bar_label(container, fmt='%.0f$')\n",
    "\n",
    "# Personnalisation\n",
    "plt.xlabel(\"Groupe d'âges\")\n",
    "plt.ylabel(\"Charges moyennes\")\n",
    "plt.title(\"Charges moyennes par groupe d'âges avec courbe de tendance\")\n",
    "plt.show()"
   ]
  },
  {
   "cell_type": "code",
   "execution_count": null,
   "metadata": {},
   "outputs": [],
   "source": [
    "pd.pivot_table(data=df, \n",
    "               values='charges', \n",
    "               index='age_group',   \n",
    "               aggfunc=['count', 'mean', 'median', 'std'],\n",
    "               observed=True\n",
    "               ).round(2)"
   ]
  },
  {
   "cell_type": "code",
   "execution_count": null,
   "metadata": {},
   "outputs": [],
   "source": [
    "# Relation entre le BMI et les charges\n",
    "\n",
    "## Création des catégories de BMI\n",
    "def bmi_category(bmi):\n",
    "    if bmi < 18:\n",
    "        return \"Sous-poids\"\n",
    "    elif bmi < 24.5:\n",
    "        return \"Normal\"\n",
    "    elif bmi < 30:\n",
    "        return \"Surpoids\"\n",
    "    elif bmi < 35:\n",
    "        return \"Obésité I\"\n",
    "    elif bmi < 40:\n",
    "        return \"Obésité II\"\n",
    "    else:\n",
    "        return \"Obésité III\"\n",
    "\n",
    "df[\"bmi_cat\"] = df[\"bmi\"].apply(bmi_category)\n",
    "\n",
    "## Mapping de BMI\n",
    "bmi_mapping = {'Sous-poids': 0,'Normal': 1, 'Surpoids': 2, 'Obésité I': 3, 'Obésité II': 4, 'Obésité III': 5}\n",
    "\n",
    "df['bmi_cat_numeric'] = df['bmi_cat'].map(bmi_mapping)\n",
    "\n",
    "## BarPlot\n",
    "sns.barplot(data=df, x='bmi_cat', y='charges', estimator=\"mean\", errorbar=None, order=bmi_mapping.keys())\n",
    "\n",
    "## Courbe de tendance avec regplot (régression linéaire)\n",
    "sns.regplot(data=df, x='bmi_cat_numeric', y='charges', scatter=False, color='red')\n",
    "\n",
    "## Annotations\n",
    "for container in plt.gca().containers:\n",
    "    plt.gca().bar_label(container, fmt='%.0f$')\n",
    "\n",
    "## Personnalisation\n",
    "plt.xlabel(\"Catégorie BMI\")\n",
    "plt.ylabel(\"Charges moyennes\")\n",
    "plt.title(\"Charges moyennes par catégorie BMI avec courbe de tendance\")\n",
    "plt.show()"
   ]
  },
  {
   "cell_type": "code",
   "execution_count": null,
   "metadata": {},
   "outputs": [],
   "source": [
    "pd.pivot_table(data=df, \n",
    "               values='charges',  # On peut utiliser n'importe quelle colonne ici\n",
    "               index='bmi_cat',   # C'est la colonne pour laquelle on veut les catégories\n",
    "               aggfunc=['count', 'mean', 'median', 'std'],\n",
    "               ).reindex(bmi_mapping).round(2)"
   ]
  },
  {
   "cell_type": "code",
   "execution_count": null,
   "metadata": {},
   "outputs": [],
   "source": [
    "# Relation entre le nombre d'enfants et les charges\n",
    "\n",
    "## BarPlot\n",
    "sns.barplot(data=df, x='children', y='charges', errorbar=None)\n",
    "sns.regplot(data=df, x='children', y='charges', scatter=False, color='red')\n",
    "\n",
    "## Annotations\n",
    "for container in plt.gca().containers:\n",
    "    plt.gca().bar_label(container, fmt='%.0f$')\n",
    "\n",
    "## Personnalisation\n",
    "plt.xlabel(\"Nombre d'enfants\")\n",
    "plt.ylabel(\"Charges moyennes\")\n",
    "plt.title(\"Charges moyennes par nombre d'enfants avec courbe de tendance\")\n",
    "plt.show()"
   ]
  },
  {
   "cell_type": "code",
   "execution_count": null,
   "metadata": {},
   "outputs": [],
   "source": [
    "pd.pivot_table(data=df, \n",
    "               values='charges',\n",
    "               index='children',\n",
    "               aggfunc=['count', 'mean', 'median', 'std']\n",
    "               ).round(2)"
   ]
  },
  {
   "cell_type": "code",
   "execution_count": null,
   "metadata": {},
   "outputs": [],
   "source": [
    "# Relation entre le nombre d'enfants et les charges\n",
    "\n",
    "## BarPlot\n",
    "sns.barplot(data=df, x='region', y='charges', estimator='mean', errorbar=None)\n",
    "\n",
    "## Annotations\n",
    "for container in plt.gca().containers:\n",
    "    plt.gca().bar_label(container, fmt='%.0f$')\n",
    "\n",
    "## Personnalisation\n",
    "plt.xlabel(\"Régions\")\n",
    "plt.ylabel(\"Charges moyennes\")\n",
    "plt.title(\"Charges moyennes par région\")\n",
    "plt.show()"
   ]
  },
  {
   "cell_type": "code",
   "execution_count": null,
   "metadata": {},
   "outputs": [],
   "source": [
    "pd.crosstab(df[\"sex\"], df[\"region\"])"
   ]
  },
  {
   "cell_type": "code",
   "execution_count": null,
   "metadata": {},
   "outputs": [],
   "source": [
    "pd.crosstab(df[\"smoker\"], df[\"region\"])"
   ]
  },
  {
   "cell_type": "code",
   "execution_count": null,
   "metadata": {},
   "outputs": [],
   "source": [
    "df.groupby(['sex', 'smoker'])['charges'].describe()"
   ]
  },
  {
   "cell_type": "code",
   "execution_count": null,
   "metadata": {},
   "outputs": [],
   "source": [
    "df.groupby(['sex', 'region'])['charges'].describe()"
   ]
  },
  {
   "cell_type": "code",
   "execution_count": null,
   "metadata": {},
   "outputs": [],
   "source": [
    "df.groupby(['smoker', 'region'])['charges'].describe()"
   ]
  },
  {
   "cell_type": "markdown",
   "metadata": {},
   "source": [
    "# 6 | Tests statistiques"
   ]
  },
  {
   "cell_type": "markdown",
   "metadata": {},
   "source": [
    "### 1. Test de normalités"
   ]
  },
  {
   "cell_type": "code",
   "execution_count": null,
   "metadata": {},
   "outputs": [],
   "source": [
    "variables = ['charges', 'age', 'bmi']\n",
    "\n",
    "results = []\n",
    "\n",
    "# Test de normalité sur chaque variable\n",
    "for var in variables:\n",
    "    stat, p_value = stats.normaltest(df[var])\n",
    "    results.append({\n",
    "        'Variable': var,\n",
    "        'Statistique': stat,\n",
    "        'p-value': p_value,\n",
    "        'Normalité': 'Rejetée' if p_value < 0.05 else 'Acceptée'\n",
    "    })\n",
    "    \n",
    "# Ajouter les résultats après transformation logarithmique pour 'charges'\n",
    "stat, p_value = stats.normaltest(np.log(df[\"charges\"]))\n",
    "results.append({\n",
    "    'Variable': 'charges (log)',\n",
    "    'Statistique': stat,\n",
    "    'p-value': p_value,\n",
    "    'Normalité': 'Rejetée' if p_value < 0.05 else 'Acceptée'\n",
    "})\n",
    "\n",
    "norm_test_df = pd.DataFrame(results)\n",
    "norm_test_df\n"
   ]
  },
  {
   "cell_type": "markdown",
   "metadata": {},
   "source": [
    "### 2. Tests de régression univariée"
   ]
  },
  {
   "cell_type": "code",
   "execution_count": null,
   "metadata": {},
   "outputs": [],
   "source": [
    "# Charges & Âges\n",
    "\n",
    "print(smf.ols('charges ~ age', data=df).fit().summary())"
   ]
  },
  {
   "cell_type": "markdown",
   "metadata": {},
   "source": [
    "Le modèle n'explique qu'environ 8.9 % de la variance des charges, ce qui est très faible. Cela signifie que d'autres variables (comme bmi, smoker, ou sex) sont probablement importantes pour expliquer les variations des charges.\n",
    "\n",
    "Bien que age ait un effet significatif sur les charges, cet effet est relativement faible (257.23 unités monétaires par an).\n",
    "\n",
    "Les résidus ne sont pas normalement distribués, ce qui pourrait affecter la validité des tests statistiques. Cela peut être dû à l'absence d'autres variables importantes dans le modèle."
   ]
  },
  {
   "cell_type": "code",
   "execution_count": null,
   "metadata": {},
   "outputs": [],
   "source": [
    "# Charges & BMI\n",
    "\n",
    "print(smf.ols('charges ~ bmi', data=df).fit().summary())"
   ]
  },
  {
   "cell_type": "markdown",
   "metadata": {},
   "source": [
    "R² = 0.039 : 3.9 % de la variabilité des charges est expliquée par l’IMC.\n",
    "Le coefficient (393.86) montre qu’une augmentation d’une unité de l’IMC est associée à une augmentation moyenne de 393.86 unités monétaires des charges.\n",
    "\n",
    "Le test global du modèle (F−statistic = 54.70) est également significatif (P=2.47×10^(−13)), confirmant que bmi apporte une information utile pour expliquer charges.\n",
    "\n",
    "Bien que bmi ait un effet significatif sur charges, il ne suffit pas à expliquer les variations importantes des coûts médicaux. "
   ]
  },
  {
   "cell_type": "code",
   "execution_count": null,
   "metadata": {},
   "outputs": [],
   "source": [
    "# Fumeurs\n",
    "\n",
    "print(smf.ols('charges ~ smoker', data=df).fit().summary())"
   ]
  },
  {
   "cell_type": "markdown",
   "metadata": {},
   "source": [
    "R² = 0.62 : Cela signifie que 62 % de la variation des charges médicales est expliquée par la variable explicative \"smoker\" (le statut de fumeur).\n",
    "Ce résultat indique une bonne capacité explicative du modèle. Un R² aussi élevé montre que le statut de fumeur a un impact significatif sur les charges médicales.\n",
    "\n",
    "smoker[T.yes] = 23 610,00 : Cela signifie que les charges médicales sont en moyenne 23 610 unités monétaires plus élevées pour un fumeur comparé à un non-fumeur.\n",
    "\n",
    "F-statistic = 2176 et p-value associée = 1.41e-282 : Le test F est très significatif (p-value extrêmement faible), ce qui confirme que le modèle dans son ensemble est bien ajusté et que la variable explicative \"smoker\" contribue de manière importante à la prédiction des charges."
   ]
  },
  {
   "cell_type": "code",
   "execution_count": null,
   "metadata": {},
   "outputs": [],
   "source": [
    "# Charges & Enfants\n",
    "\n",
    "print(smf.ols('charges ~ children', data=df).fit().summary())"
   ]
  },
  {
   "cell_type": "markdown",
   "metadata": {},
   "source": [
    "R² = 0.005 : Cela signifie que seulement 0,5 % de la variation des charges médicales est expliquée par le nombre d'enfants. Un R² aussi faible suggère que le modèle n'explique pratiquement rien de la variation des charges."
   ]
  },
  {
   "cell_type": "code",
   "execution_count": null,
   "metadata": {},
   "outputs": [],
   "source": [
    "# Regions\n",
    "\n",
    "print(smf.ols('charges ~ region', data=df).fit().summary())"
   ]
  },
  {
   "cell_type": "markdown",
   "metadata": {},
   "source": [
    "R² = 0.007 : Cela suggère que les variables indépendantes incluses dans le modèle n'ont qu'une influence marginale sur charges.\n",
    "\n",
    "Variables catégorielles \"region\" :\n",
    "* \"northwest\" : Le coefficient est de -955,54, mais avec une valeur p de 0,314, ce qui indique que cette variable n'a pas d'effet statistiquement significatif sur \"charges\".\n",
    "* \"southeast\" : Le coefficient est de 1 329,03, avec une valeur p de 0,150, suggérant également un effet non significatif.\n",
    "* \"southwest\" : Le coefficient est de -1 059,45, avec une valeur p de 0,264, indiquant un effet non significatif.\n",
    "Aucune des variables \"region\" n'a d'effet statistiquement significatif sur \"charges\" dans ce modèle.\n",
    "\n",
    "\n",
    "F-statistic : La valeur est de 2,926 avec une valeur p de 0,0328, indique que le modèle dans son ensemble est significatif. Bien que le modèle global soit statistiquement significatif, les variables régionales incluses n'ont pas d'effet significatif sur charges. De plus, les résidus ne suivent pas une distribution normale, ce qui pourrait affecter la validité des résultats."
   ]
  },
  {
   "cell_type": "markdown",
   "metadata": {},
   "source": [
    "### 3. Test de régression multivarié"
   ]
  },
  {
   "cell_type": "code",
   "execution_count": null,
   "metadata": {},
   "outputs": [],
   "source": [
    "df_encoded"
   ]
  },
  {
   "cell_type": "code",
   "execution_count": null,
   "metadata": {},
   "outputs": [],
   "source": [
    "X = df_encoded.drop(columns='charges')\n",
    "y = df['charges']\n",
    "\n",
    "X = sm.add_constant(X)\n",
    "model = sm.OLS(y, X).fit()\n",
    "\n",
    "print(model.summary())"
   ]
  },
  {
   "cell_type": "markdown",
   "metadata": {},
   "source": [
    "Les résultats de la régression linéaire multiple indiquent que le modèle explique environ 75,1 % de la variance des charges médicales, ce qui est relativement élevé. Les variables indépendantes significatives comprennent l'âge, l'indice de masse corporelle (IMC), le nombre d'enfants, le statut de fumeur et la région. En revanche, le sexe n'a pas d'effet statistiquement significatif sur les charges médicales dans ce modèle.\n",
    "\n",
    "R² = 0,751 : Le modèle explique environ 75,1% de la variance de la variable dépendante \"charges\". Cela signifie que le modèle est relativement performant.\n",
    "Adj. R² = 0,749 : L'ajustement prend en compte le nombre de variables explicatives, ce qui reste très bon. L'ajustement montre qu'il y a très peu de perte de performance lorsque l'on ajuste pour la complexité du modèle.\n",
    "\n",
    "F-statistic = 667,0 avec une p-value proche de 0 : Cela signifie que le modèle dans son ensemble est très significatif et que la probabilité que les résultats soient dus au hasard est extrêmement faible.\n",
    "\n",
    "\n",
    "* **age** : Le coefficient est 257,20, avec une p-value = 0,000. Cela montre que l'âge a un effet statistiquement significatif sur les charges (une augmentation de l'âge de 1 an est associée à une augmentation de 257,20 unités des charges).\n",
    "\n",
    "* **sex_encoded** : Le coefficient est de -129,40, mais avec une p-value = 0,698. Cela indique que le sexe n'a pas un effet significatif sur les charges.\n",
    "\n",
    "* **bmi** : Le coefficient est 332,60, avec une p-value = 0,000. Cela montre que le BMI a un impact statistiquement significatif sur les charges (une augmentation du BMI de 1 unité est associée à une augmentation de 332,60 unités des charges).\n",
    "\n",
    "* **children** : Le coefficient est 478,77, avec une p-value = 0,001. Cela montre qu'avoir des enfants a un effet positif et significatif sur les charges (chaque enfant supplémentaire est associé à une augmentation de 478,77 unités des charges).\n",
    "\n",
    "* **smoker_encoded** : Le coefficient est de 23 820, avec une p-value = 0,000. Cela montre qu'être fumeur a un impact majeur et significatif sur les charges.\n",
    "\n",
    "* **region_encoded** : Le coefficient est de -354,01, avec une p-value = 0,020. Cela montre que la région a un effet modéré mais significatif sur les charges (certaines régions entraînent une réduction ou une augmentation des charges par rapport à la moyenne)."
   ]
  }
 ],
 "metadata": {
  "kernelspec": {
   "display_name": ".venv",
   "language": "python",
   "name": "python3"
  },
  "language_info": {
   "codemirror_mode": {
    "name": "ipython",
    "version": 3
   },
   "file_extension": ".py",
   "mimetype": "text/x-python",
   "name": "python",
   "nbconvert_exporter": "python",
   "pygments_lexer": "ipython3",
   "version": "3.13.0"
  }
 },
 "nbformat": 4,
 "nbformat_minor": 2
}
